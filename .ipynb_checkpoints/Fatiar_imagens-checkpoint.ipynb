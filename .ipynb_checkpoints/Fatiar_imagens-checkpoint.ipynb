{
 "cells": [
  {
   "cell_type": "code",
   "execution_count": 23,
   "metadata": {},
   "outputs": [],
   "source": [
    "import cv2\n",
    "import numpy as np"
   ]
  },
  {
   "cell_type": "code",
   "execution_count": 24,
   "metadata": {},
   "outputs": [],
   "source": [
    "#Carregar a imagem original\n",
    "image1 = cv2.imread('D1.jpg')\n",
    "image2 = cv2.imread('D2.jpg')"
   ]
  },
  {
   "cell_type": "code",
   "execution_count": 27,
   "metadata": {},
   "outputs": [
    {
     "data": {
      "text/plain": [
       "-1"
      ]
     },
     "execution_count": 27,
     "metadata": {},
     "output_type": "execute_result"
    }
   ],
   "source": [
    "cv2.imshow(\"Imagem1\",image1)\n",
    "cv2.waitKey(0)\n",
    "cv2.imshow(\"Imagem2\",image2)\n",
    "cv2.waitKey(0)"
   ]
  },
  {
   "cell_type": "code",
   "execution_count": 32,
   "metadata": {},
   "outputs": [
    {
     "name": "stdout",
     "output_type": "stream",
     "text": [
      "Imagem nº1\n",
      "Altura: 643 pixels\n",
      "Largura: 643 pixels\n",
      "Canais: 3 pixels\n",
      "\n",
      "Imagem nº2\n",
      "Altura: 640 pixels\n",
      "Largura: 640 pixels\n",
      "Canais: 3 pixels\n"
     ]
    }
   ],
   "source": [
    "#Dados da imagem nº1\n",
    "print(\"Imagem nº1\")\n",
    "print(\"Altura: {} pixels\".format(image1.shape[0]))\n",
    "print(\"Largura: {} pixels\".format(image1.shape[1]))\n",
    "print(\"Canais: {} pixels\".format(image1.shape[2]))\n",
    "\n",
    "\n",
    "print()\n",
    "\n",
    "#Dados da imagem nº2\n",
    "print(\"Imagem nº2\")\n",
    "print(\"Altura: {} pixels\".format(image2.shape[0]))\n",
    "print(\"Largura: {} pixels\".format(image2.shape[1]))\n",
    "print(\"Canais: {} pixels\".format(image2.shape[2]))\n",
    "\n"
   ]
  },
  {
   "cell_type": "code",
   "execution_count": 33,
   "metadata": {},
   "outputs": [
    {
     "ename": "TypeError",
     "evalue": "imwrite() missing required argument 'img' (pos 2)",
     "output_type": "error",
     "traceback": [
      "\u001b[1;31m---------------------------------------------------------------------------\u001b[0m",
      "\u001b[1;31mTypeError\u001b[0m                                 Traceback (most recent call last)",
      "\u001b[1;32m<ipython-input-33-4229f41e39b5>\u001b[0m in \u001b[0;36m<module>\u001b[1;34m\u001b[0m\n\u001b[0;32m      4\u001b[0m \u001b[0mfatia_imagem_1\u001b[0m \u001b[1;33m=\u001b[0m \u001b[0mimage1\u001b[0m\u001b[1;33m[\u001b[0m\u001b[1;36m0\u001b[0m\u001b[1;33m:\u001b[0m\u001b[1;36m100\u001b[0m\u001b[1;33m,\u001b[0m\u001b[1;36m0\u001b[0m\u001b[1;33m:\u001b[0m\u001b[1;36m100\u001b[0m\u001b[1;33m]\u001b[0m\u001b[1;33m\u001b[0m\u001b[1;33m\u001b[0m\u001b[0m\n\u001b[0;32m      5\u001b[0m \u001b[0mcv2\u001b[0m\u001b[1;33m.\u001b[0m\u001b[0mimshow\u001b[0m\u001b[1;33m(\u001b[0m\u001b[1;34m\"Imagem nº1 fatiada\"\u001b[0m\u001b[1;33m,\u001b[0m\u001b[0mfatia_imagem_1\u001b[0m\u001b[1;33m)\u001b[0m\u001b[1;33m\u001b[0m\u001b[1;33m\u001b[0m\u001b[0m\n\u001b[1;32m----> 6\u001b[1;33m \u001b[0mcv2\u001b[0m\u001b[1;33m.\u001b[0m\u001b[0mimwrite\u001b[0m\u001b[1;33m(\u001b[0m\u001b[1;34m\"Imagem fatiada\"\u001b[0m\u001b[1;33m)\u001b[0m\u001b[1;33m\u001b[0m\u001b[1;33m\u001b[0m\u001b[0m\n\u001b[0m\u001b[0;32m      7\u001b[0m \u001b[0mcv2\u001b[0m\u001b[1;33m.\u001b[0m\u001b[0mwaitKey\u001b[0m\u001b[1;33m(\u001b[0m\u001b[1;36m0\u001b[0m\u001b[1;33m)\u001b[0m\u001b[1;33m\u001b[0m\u001b[1;33m\u001b[0m\u001b[0m\n\u001b[0;32m      8\u001b[0m \u001b[1;33m\u001b[0m\u001b[0m\n",
      "\u001b[1;31mTypeError\u001b[0m: imwrite() missing required argument 'img' (pos 2)"
     ]
    }
   ],
   "source": [
    "#Fatiando as imagens para 100x100 pixels\n",
    "\n",
    "#Imagem nº1\n",
    "fatia_imagem_1 = image1[0:100,0:100]\n",
    "cv2.imshow(\"Imagem nº1 fatiada\",fatia_imagem_1)\n",
    "cv2.imwrite(\"Imagem_1_fatiada.jpg\",fatia_imagem_1)\n",
    "cv2.waitKey(0)\n",
    "\n",
    "#Imagem nº2\n",
    "fatia_imagem_2 = image2[0:100,0:100]\n",
    "cv2.imshow(\"Imagem nº2 fatiada\",fatia_imagem_2)\n",
    "cv2.imwrite(\"Imagem_2_fatiada.jpg\",fatia_imagem_2)\n",
    "cv2.waitKey(0)\n"
   ]
  },
  {
   "cell_type": "code",
   "execution_count": null,
   "metadata": {},
   "outputs": [],
   "source": []
  },
  {
   "cell_type": "code",
   "execution_count": null,
   "metadata": {},
   "outputs": [],
   "source": []
  },
  {
   "cell_type": "code",
   "execution_count": null,
   "metadata": {},
   "outputs": [],
   "source": []
  },
  {
   "cell_type": "code",
   "execution_count": null,
   "metadata": {},
   "outputs": [],
   "source": []
  }
 ],
 "metadata": {
  "kernelspec": {
   "display_name": "Python 3",
   "language": "python",
   "name": "python3"
  },
  "language_info": {
   "codemirror_mode": {
    "name": "ipython",
    "version": 3
   },
   "file_extension": ".py",
   "mimetype": "text/x-python",
   "name": "python",
   "nbconvert_exporter": "python",
   "pygments_lexer": "ipython3",
   "version": "3.7.3"
  }
 },
 "nbformat": 4,
 "nbformat_minor": 2
}
