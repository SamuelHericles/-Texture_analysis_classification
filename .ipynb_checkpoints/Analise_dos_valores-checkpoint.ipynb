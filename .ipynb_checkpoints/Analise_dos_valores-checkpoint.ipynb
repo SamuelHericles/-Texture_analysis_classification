{
 "cells": [
  {
   "cell_type": "code",
   "execution_count": 9,
   "metadata": {},
   "outputs": [],
   "source": [
    "import funcoes\n",
    "import cv2\n",
    "import numpy as np\n",
    "from sklearn.discriminant_analysis import LinearDiscriminantAnalysis\n",
    "from skimage.feature.texture import greycomatrix\n",
    "import matplotlib.pyplot as plt\n"
   ]
  },
  {
   "cell_type": "code",
   "execution_count": 10,
   "metadata": {},
   "outputs": [],
   "source": [
    "##### Carregar as imagens\n",
    "image1 = cv2.imread(\"Imagem_1_fatiada.jpg\")\n",
    "#image1_filtro_2D = funcoes.filtro_2D(image1)\n",
    "glcm_imagem = greycomatrix(image1[0:128,0:128,0], [1], [0, np.pi/2], levels=256)\n",
    "#funcoes.mostrar_imagem(image1)\n",
    "#funcoes.dados_imagem(image1)"
   ]
  },
  {
   "cell_type": "code",
   "execution_count": 11,
   "metadata": {},
   "outputs": [],
   "source": [
    "A = image1[0:128,0:128,0]\n",
    "B = glcm_imagem[0:128,0,0,0]\n",
    "C = glcm_imagem[0:128,0,0,0]"
   ]
  },
  {
   "cell_type": "code",
   "execution_count": 12,
   "metadata": {},
   "outputs": [
    {
     "name": "stdout",
     "output_type": "stream",
     "text": [
      "0->74.21875%\n",
      "1->80.46875%\n",
      "2->91.40625%\n",
      "3->89.0625%\n",
      "4->94.53125%\n",
      "5->96.875%\n",
      "6->96.875%\n",
      "7->97.65625%\n",
      "8->97.65625%\n",
      "9->97.65625%\n",
      "10->97.65625%\n",
      "11->97.65625%\n",
      "12->97.65625%\n",
      "13->97.65625%\n",
      "14->97.65625%\n",
      "15->97.65625%\n",
      "16->97.65625%\n",
      "17->97.65625%\n",
      "18->97.65625%\n",
      "19->97.65625%\n",
      "20->97.65625%\n",
      "21->97.65625%\n",
      "22->97.65625%\n",
      "23->97.65625%\n",
      "24->97.65625%\n",
      "25->97.65625%\n",
      "26->97.65625%\n",
      "27->97.65625%\n",
      "28->97.65625%\n",
      "29->97.65625%\n",
      "30->97.65625%\n",
      "31->96.875%\n",
      "32->97.65625%\n",
      "33->97.65625%\n",
      "34->97.65625%\n",
      "35->97.65625%\n",
      "36->97.65625%\n",
      "37->97.65625%\n",
      "38->97.65625%\n",
      "39->97.65625%\n",
      "40->97.65625%\n",
      "41->97.65625%\n",
      "42->97.65625%\n",
      "43->97.65625%\n",
      "44->97.65625%\n",
      "45->97.65625%\n",
      "46->96.875%\n",
      "47->97.65625%\n",
      "48->97.65625%\n",
      "49->97.65625%\n",
      "50->97.65625%\n",
      "51->97.65625%\n",
      "52->96.875%\n",
      "53->97.65625%\n",
      "54->96.875%\n",
      "55->96.09375%\n",
      "56->97.65625%\n",
      "57->97.65625%\n",
      "58->97.65625%\n",
      "59->97.65625%\n",
      "60->96.875%\n",
      "61->97.65625%\n",
      "62->96.875%\n",
      "63->96.875%\n",
      "64->96.875%\n",
      "65->97.65625%\n",
      "66->96.09375%\n",
      "67->96.875%\n",
      "68->96.875%\n",
      "69->97.65625%\n",
      "70->96.09375%\n",
      "71->95.3125%\n",
      "72->96.875%\n",
      "73->96.875%\n",
      "74->96.09375%\n",
      "75->96.09375%\n",
      "76->95.3125%\n",
      "77->95.3125%\n",
      "78->95.3125%\n",
      "79->95.3125%\n",
      "80->95.3125%\n",
      "81->96.875%\n",
      "82->96.09375%\n",
      "83->94.53125%\n",
      "84->93.75%\n",
      "85->94.53125%\n",
      "86->94.53125%\n",
      "87->96.875%\n",
      "88->92.96875%\n",
      "89->96.09375%\n",
      "90->96.09375%\n",
      "91->96.09375%\n",
      "92->97.65625%\n",
      "93->96.09375%\n",
      "94->96.09375%\n",
      "95->96.875%\n",
      "96->93.75%\n",
      "97->96.09375%\n",
      "98->96.09375%\n",
      "99->97.65625%\n",
      "100->94.53125%\n",
      "101->95.3125%\n",
      "102->96.09375%\n",
      "103->96.875%\n",
      "104->94.53125%\n",
      "105->96.875%\n",
      "106->95.3125%\n",
      "107->93.75%\n",
      "108->96.09375%\n",
      "109->94.53125%\n",
      "110->89.84375%\n",
      "111->94.53125%\n",
      "112->95.3125%\n",
      "113->96.875%\n",
      "114->96.875%\n",
      "115->92.96875%\n",
      "116->91.40625%\n",
      "117->92.96875%\n",
      "118->96.09375%\n",
      "119->96.09375%\n",
      "120->93.75%\n",
      "121->93.75%\n",
      "122->94.53125%\n",
      "123->92.96875%\n",
      "124->93.75%\n",
      "125->91.40625%\n",
      "126->94.53125%\n",
      "127->87.5%\n"
     ]
    },
    {
     "name": "stderr",
     "output_type": "stream",
     "text": [
      "/usr/lib/python3.7/site-packages/sklearn/discriminant_analysis.py:388: UserWarning: Variables are collinear.\n",
      "  warnings.warn(\"Variables are collinear.\")\n"
     ]
    }
   ],
   "source": [
    "v = funcoes.LDA_class(image1,A,B,C)"
   ]
  },
  {
   "cell_type": "code",
   "execution_count": 16,
   "metadata": {},
   "outputs": [
    {
     "ename": "TypeError",
     "evalue": "scatter() missing 2 required positional arguments: 'x' and 'y'",
     "output_type": "error",
     "traceback": [
      "\u001b[0;31m---------------------------------------------------------------------------\u001b[0m",
      "\u001b[0;31mTypeError\u001b[0m                                 Traceback (most recent call last)",
      "\u001b[0;32m<ipython-input-16-6f48e799c9a3>\u001b[0m in \u001b[0;36m<module>\u001b[0;34m\u001b[0m\n\u001b[0;32m----> 1\u001b[0;31m \u001b[0mplt\u001b[0m\u001b[0;34m.\u001b[0m\u001b[0mscatter\u001b[0m\u001b[0;34m(\u001b[0m\u001b[0mdata\u001b[0m\u001b[0;34m=\u001b[0m\u001b[0mv\u001b[0m\u001b[0;34m)\u001b[0m\u001b[0;34m\u001b[0m\u001b[0;34m\u001b[0m\u001b[0m\n\u001b[0m",
      "\u001b[0;31mTypeError\u001b[0m: scatter() missing 2 required positional arguments: 'x' and 'y'"
     ]
    }
   ],
   "source": [
    "plt.plot(v)"
   ]
  },
  {
   "cell_type": "code",
   "execution_count": null,
   "metadata": {},
   "outputs": [],
   "source": []
  },
  {
   "cell_type": "code",
   "execution_count": null,
   "metadata": {},
   "outputs": [],
   "source": []
  },
  {
   "cell_type": "code",
   "execution_count": null,
   "metadata": {},
   "outputs": [],
   "source": []
  },
  {
   "cell_type": "code",
   "execution_count": null,
   "metadata": {},
   "outputs": [],
   "source": []
  },
  {
   "cell_type": "code",
   "execution_count": null,
   "metadata": {},
   "outputs": [],
   "source": []
  },
  {
   "cell_type": "code",
   "execution_count": null,
   "metadata": {},
   "outputs": [],
   "source": []
  },
  {
   "cell_type": "code",
   "execution_count": null,
   "metadata": {},
   "outputs": [],
   "source": []
  },
  {
   "cell_type": "code",
   "execution_count": null,
   "metadata": {},
   "outputs": [],
   "source": []
  },
  {
   "cell_type": "code",
   "execution_count": null,
   "metadata": {},
   "outputs": [],
   "source": []
  },
  {
   "cell_type": "code",
   "execution_count": null,
   "metadata": {},
   "outputs": [],
   "source": []
  }
 ],
 "metadata": {
  "kernelspec": {
   "display_name": "Python 3",
   "language": "python",
   "name": "python3"
  },
  "language_info": {
   "codemirror_mode": {
    "name": "ipython",
    "version": 3
   },
   "file_extension": ".py",
   "mimetype": "text/x-python",
   "name": "python",
   "nbconvert_exporter": "python",
   "pygments_lexer": "ipython3",
   "version": "3.7.4"
  }
 },
 "nbformat": 4,
 "nbformat_minor": 2
}
